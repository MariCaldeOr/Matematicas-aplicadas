{
  "nbformat": 4,
  "nbformat_minor": 0,
  "metadata": {
    "colab": {
      "provenance": [],
      "include_colab_link": true
    },
    "kernelspec": {
      "name": "python3",
      "display_name": "Python 3"
    },
    "language_info": {
      "name": "python"
    }
  },
  "cells": [
    {
      "cell_type": "markdown",
      "metadata": {
        "id": "view-in-github",
        "colab_type": "text"
      },
      "source": [
        "<a href=\"https://colab.research.google.com/github/MariCaldeOr/Matematicas-aplicadas/blob/main/Primer_taller_APLICADAS_I_.ipynb\" target=\"_parent\"><img src=\"https://colab.research.google.com/assets/colab-badge.svg\" alt=\"Open In Colab\"/></a>"
      ]
    },
    {
      "cell_type": "markdown",
      "source": [],
      "metadata": {
        "id": "vurJbdo-MvDV"
      }
    },
    {
      "cell_type": "markdown",
      "source": [
        "Punto 1.\n",
        "1. Área lateral de un cilindro: $\\mathit{A=2\\pi r g}$\n",
        "- Se despeja r: $r=\\frac{A}{2\\pi g}$\n",
        "2. Volumen del cono: $V=\\frac{A_B\\times h}{3}$\n",
        "- Se despeja h: $h=\\frac{3V}{A_g}$\n",
        "3. Volumen de la esfera: $V= \\frac{4}{3}\\times \\pi\\times r ^{3}$\n",
        "- Se despeja r: $r=\\sqrt[3]{\\frac{3V}{4\\pi}}$#\n",
        "4. Área del trapecio: $A= \\frac{B+b}{2}\\times h$\n",
        "- Se despeja h: $h= \\frac{2A}{B+b}$\n",
        "5. Intensidad electrica: $I= \\frac{q}{t}$\n",
        "- Se despeja t: $t= \\frac{q}{I}$"
      ],
      "metadata": {
        "id": "xT8sv2HLJBjU"
      }
    },
    {
      "cell_type": "code",
      "execution_count": null,
      "metadata": {
        "colab": {
          "base_uri": "https://localhost:8080/"
        },
        "id": "lDZnKf9MLxr9",
        "outputId": "1abd389e-ec48-488d-c09f-2941c2dfe0ea"
      },
      "outputs": [
        {
          "output_type": "stream",
          "name": "stdout",
          "text": [
            "Punto #3\n",
            "\n",
            "La operacion numero #1 da: 64\n",
            "\n",
            "La operacion numero #2 da: 0.0\n",
            "\n",
            "La operacion numero #3 da: 6\n",
            "\n",
            "Punto #4\n",
            "\n",
            "La operacion numero #3 da: 1.8875\n",
            "\n",
            "La operacion numero #2 da: 5.0\n",
            "\n"
          ]
        }
      ],
      "source": [
        "# Punto 2.\n",
        "print(\"Punto #3\")\n",
        "print() # Espacio para organizar el codigo\n",
        "\n",
        "operacion1_2 = (3 * (-5 + 10 + (-5)) - 2 * ((-2) + (-4) + 10)) ** 2\n",
        "print(f\"La operacion numero #1 da: {operacion1_2}\")\n",
        "print() # Espacio para organizar el codigo\n",
        "\n",
        "operacion2_2 = 45 + (3 * (2 + 8) - 8 / 4) + 10 - 83\n",
        "print(f\"La operacion numero #2 da: {operacion2_2}\")\n",
        "print() # Espacio para organizar el codigo\n",
        "\n",
        "operacion3_2 = ((-4 + 7) * 2 - 10) * (-4) - 7 - 3\n",
        "print(f\"La operacion numero #3 da: {operacion3_2}\")\n",
        "print() # Espacio para organizar el codigo\n",
        "\n",
        "# Punto 3.\n",
        "print(\"Punto #4\")\n",
        "print() # Espacio para organizar el codigo\n",
        "\n",
        "operacion1_3 = (1/5) * ((1/2) ** 2) + (3/4) ** 2 + (10/25) * ((1/2) ** 2) + (3/4) ** 2 + (8/40) * ((1/2) ** 2) + (3/4) ** 2\n",
        "print(f\"La operacion numero #3 da: {operacion1_3}\")\n",
        "print() # Espacio para organizar el codigo\n",
        "\n",
        "operacion2_3 = (9/4) * ((6/8) ** -1) - (5/2) * ((25/20) ** -1) + (40/8) * ((20/16) ** -1)\n",
        "print(f\"La operacion numero #2 da: {operacion2_3}\")\n",
        "print() # Espacio para organizar el codigo\n"
      ]
    },
    {
      "cell_type": "code",
      "source": [
        "nombre=input(\"ingrese su nombre:\") #punto 4\n",
        "\n",
        "peso=int(input(\"ingrese su peso:\"))\n",
        "\n",
        "talla=float(input(\"ingrese su talla\"))\n",
        "\n",
        "imc=peso/talla**2\n",
        "\n",
        "print(\"el imc de\", nombre ,\"es: \", imc)"
      ],
      "metadata": {
        "colab": {
          "base_uri": "https://localhost:8080/"
        },
        "id": "HfYs8V1xMNwF",
        "outputId": "de8f1d64-57a3-4c45-82a6-51defa099c95"
      },
      "execution_count": null,
      "outputs": [
        {
          "output_type": "stream",
          "name": "stdout",
          "text": [
            "ingrese su nombre:Mango\n",
            "ingrese su peso:100\n",
            "ingrese su talla1.70\n",
            "el imc de Mango es:  34.602076124567475\n"
          ]
        }
      ]
    },
    {
      "cell_type": "code",
      "source": [
        "num1=int(input(\"ingrese un numero:\"))\n",
        "\n",
        "num2=int(input(\"ingrese otro numero:\"))\n",
        "\n",
        "print(\"la suma de los numeros es:\", num1+num2)\n",
        "\n",
        "print(\"la resta de los numeros es:\", num1-num2)\n",
        "print(\"la multiplicacion de los numeros es:\", num1*num2)\n",
        "print(\"la division de los numeros es:\", num1/num2)"
      ],
      "metadata": {
        "id": "eEaUgPqyMPou"
      },
      "execution_count": null,
      "outputs": []
    }
  ]
}