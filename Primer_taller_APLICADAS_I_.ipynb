{
  "nbformat": 4,
  "nbformat_minor": 0,
  "metadata": {
    "colab": {
      "provenance": [],
      "include_colab_link": true
    },
    "kernelspec": {
      "name": "python3",
      "display_name": "Python 3"
    },
    "language_info": {
      "name": "python"
    }
  },
  "cells": [
    {
      "cell_type": "markdown",
      "metadata": {
        "id": "view-in-github",
        "colab_type": "text"
      },
      "source": [
        "<a href=\"https://colab.research.google.com/github/MariCaldeOr/Matematicas-aplicadas/blob/main/Primer_taller_APLICADAS_I_.ipynb\" target=\"_parent\"><img src=\"https://colab.research.google.com/assets/colab-badge.svg\" alt=\"Open In Colab\"/></a>"
      ]
    },
    {
      "cell_type": "markdown",
      "source": [
        "$$Integrantes: Maria Alejandra Anaya- Mariana Calderon- Jeanfer Rivera - Juan Felipe Castro.$$\n",
        "Punto 1.\n",
        "1. Área lateral de un cilindro: $\\mathit{A=2\\pi r g}$\n",
        "- Se despeja r: $r=\\frac{A}{2\\pi g}$\n",
        "2. Volumen del cono: $V=\\frac{A_B\\times h}{3}$\n",
        "- Se despeja h: $h=\\frac{3V}{A_g}$\n",
        "3. Volumen de la esfera: $V= \\frac{4}{3}\\times \\pi\\times r ^{3}$\n",
        "- Se despeja r: $r=\\sqrt[3]{\\frac{3V}{4\\pi}}$#\n",
        "4. Área del trapecio: $A= \\frac{B+b}{2}\\times h$\n",
        "- Se despeja h: $h= \\frac{2A}{B+b}$\n",
        "5. Intensidad electrica: $I= \\frac{q}{t}$\n",
        "- Se despeja t: $t= \\frac{q}{I}$"
      ],
      "metadata": {
        "id": "xT8sv2HLJBjU"
      }
    },
    {
      "cell_type": "markdown",
      "source": [
        "6. Ley de Ohm: $$ \\mathit{I=\\frac{V}{R}}$$\n",
        "Despejado R: $$ \\mathit{R=\\frac{V}{I}}$$\n",
        "7. Energía eléctrica: $$E=\\frac{V^{2}}{R}*t$$\n",
        "Despejando t: $$t=\\frac{ER}{V^{2}}$$\n",
        "8. Resistencia en paralelo: $$\\frac{1}{R}=\\frac{1}{R_{1}}+\\frac{1}{R_{2}}\n",
        " $$\n",
        " Despejando R: $$R=\\frac{R_{1}R_{2}}{R_{1}+R_{2}}$$\n",
        "9. Ecuación de gases perfectos: $$\\frac{P_{0}V_{0}}{T_{0}}=\\frac{P_{f}V_{f}}{T_{f}}$$\n",
        "Despejando $P_{f}$: $$P_{f}\n",
        " =\\frac{P_{0}V_{0}T_{f}}{T_{0}V_{f}}$$\n",
        "10. Intensidad eléctrica: $$I=\\frac{V_{A}-V_{B}}{R}$$\n",
        "Despejando $V_{B}$: $$V_{B}=V_{A}-IR$$"
      ],
      "metadata": {
        "id": "Ecihqkr9M9EX"
      }
    },
    {
      "cell_type": "code",
      "execution_count": null,
      "metadata": {
        "colab": {
          "base_uri": "https://localhost:8080/"
        },
        "id": "lDZnKf9MLxr9",
        "outputId": "42e41811-5193-4feb-a127-ea608b9d0722"
      },
      "outputs": [
        {
          "output_type": "stream",
          "name": "stdout",
          "text": [
            "Punto #3\n",
            "\n",
            "La operacion numero #1 da: 64\n",
            "\n",
            "La operacion numero #2 da: 0.0\n",
            "\n",
            "La operacion numero #3 da: 6\n",
            "\n",
            "Punto #4\n",
            "\n",
            "La operacion numero #3 da: 1.8875\n",
            "\n",
            "La operacion numero #2 da: 5.0\n"
          ]
        }
      ],
      "source": [
        "# Punto 2.\n",
        "print(\"Punto #3\")\n",
        "print()#espacio para organizar codigo\n",
        "\n",
        "operacion1_2 = (3 * (-5 + 10 + (-5)) - 2 * ((-2) + (-4) + 10)) ** 2\n",
        "print(f\"La operacion numero #1 da: {operacion1_2}\")\n",
        "print()\n",
        "\n",
        "operacion2_2 = 45 + (3 * (2 + 8) - 8 / 4) + 10 - 83\n",
        "print(f\"La operacion numero #2 da: {operacion2_2}\")\n",
        "print()\n",
        "\n",
        "operacion3_2 = ((-4 + 7) * 2 - 10) * (-4) - 7 - 3\n",
        "print(f\"La operacion numero #3 da: {operacion3_2}\")\n",
        "print()\n",
        "\n",
        "# Punto 3.\n",
        "print(\"Punto #4\")\n",
        "print()\n",
        "\n",
        "operacion1_3 = (1/5) * ((1/2) ** 2) + (3/4) ** 2 + (10/25) * ((1/2) ** 2) + (3/4) ** 2 + (8/40) * ((1/2) ** 2) + (3/4) ** 2\n",
        "print(f\"La operacion numero #3 da: {operacion1_3}\")\n",
        "print()\n",
        "\n",
        "operacion2_3 = (9/4) * ((6/8) ** -1) - (5/2) * ((25/20) ** -1) + (40/8) * ((20/16) ** -1)\n",
        "print(f\"La operacion numero #2 da: {operacion2_3}\")\n",
        "\n"
      ]
    },
    {
      "cell_type": "code",
      "source": [
        "nombre=input(\"ingrese su nombre: \") #punto 4\n",
        "print(\n",
        "\n",
        ")\n",
        "peso=int(input(\"ingrese su peso en kilogramos: \"))\n",
        "print(\n",
        "\n",
        ")\n",
        "talla=float(input(\"ingrese su talla en metros: \"))\n",
        "print(\n",
        "\n",
        ")\n",
        "imc=peso/talla**2\n",
        "print(\n",
        "\n",
        ")\n",
        "print(f\"el imc de {nombre} es: {imc}\")"
      ],
      "metadata": {
        "colab": {
          "base_uri": "https://localhost:8080/"
        },
        "id": "HfYs8V1xMNwF",
        "outputId": "81f4c0a3-9c3b-4866-cb0f-6a846e6f917e"
      },
      "execution_count": null,
      "outputs": [
        {
          "output_type": "stream",
          "name": "stdout",
          "text": [
            "ingrese su nombre: mango\n",
            "\n",
            "ingrese su peso en kilogramos: 100\n",
            "\n",
            "ingrese su talla en metros: 1.70\n",
            "\n",
            "\n",
            "el imc de mango es: 34.602076124567475\n"
          ]
        }
      ]
    },
    {
      "cell_type": "code",
      "source": [
        "# 5\n",
        "num1=int(input(\"ingrese un numero:\"))\n",
        "print(\n",
        "\n",
        ")\n",
        "num2=int(input(\"ingrese otro numero:\"))\n",
        "print(\n",
        "\n",
        ")\n",
        "print(\"la suma de los numeros es:\", num1+num2)\n",
        "print(\n",
        "\n",
        ")\n",
        "print(\"la resta de los numeros es:\", num1-num2)\n",
        "print(\n",
        "\n",
        ")\n",
        "print(\"la multiplicacion de los numeros es:\", num1*num2)\n",
        "print(\n",
        "\n",
        ")\n",
        "print(\"la division de los numeros es: \" , num1/num2)"
      ],
      "metadata": {
        "colab": {
          "base_uri": "https://localhost:8080/"
        },
        "id": "eEaUgPqyMPou",
        "outputId": "2d1250b7-2cd4-4ee5-b9eb-b2fb6b884ba1"
      },
      "execution_count": null,
      "outputs": [
        {
          "output_type": "stream",
          "name": "stdout",
          "text": [
            "ingrese un numero:50\n",
            "\n",
            "ingrese otro numero:12\n",
            "\n",
            "la suma de los numeros es: 62\n",
            "\n",
            "la resta de los numeros es: 38\n",
            "\n",
            "la multiplicacion de los numeros es: 600\n",
            "\n",
            "la division de los numeros es:  4.166666666666667\n"
          ]
        }
      ]
    },
    {
      "cell_type": "code",
      "source": [
        "#punto 6 ➢ Construya una lista que Almacene el precio del Barril de Petróleo los\n",
        "#últimos 7 días. Indague sobre el precio de un litro de Cocacola (Hoy)\n",
        "#y haga la conversión de Litros a Barriles bbl oil. Construya otra lista\n",
        "#que relacione proporcionablemente el precio de un barril de Petróleo\n",
        "#vs un barril de Cocacola. Construya un párrafo con sus conclusiones.\n",
        "precio_petr = [75.08, 75.18, 75.38, 77.65, 77.88, 78.31, 78.74]\n",
        "\n",
        "#precio/l\n",
        "precio_coca_litro = 1.12\n",
        "barril_coca=precio_coca_litro*159\n",
        "relacion=[]\n",
        "for i in precio_petr:\n",
        "  relacion.append(i/barril_coca)\n",
        "print(f\"la relacion de los precios de los ultimos 7 dias del barril el barril de petroleo y de coca cola es :\")\n",
        "for i in range(len(precio_petr)):\n",
        "  print(f\"dia {i+1} {relacion[i]}\")\n",
        "# se ha hecho una relacion proporcional y se logra evidenciar que aunque esten\n",
        "# en la misma unidad de medida la cocacola es mucho más cara a pesar de que el petroleo\n",
        "# sea un gran recurso natural, el precio actual de la coca cola sobrepasa el precio\n",
        "# del barril de petroleo actualizado de los ultimos 7 dias."
      ],
      "metadata": {
        "colab": {
          "base_uri": "https://localhost:8080/"
        },
        "id": "vK_9KOVhf1Ak",
        "outputId": "6b4aaef3-822a-42c0-f16f-a2ac7caa5fad"
      },
      "execution_count": null,
      "outputs": [
        {
          "output_type": "stream",
          "name": "stdout",
          "text": [
            "la relacion de los precios de los ultimos 7 dias del barril el barril de petroleo y de coca cola es :\n",
            "dia 1 0.4216082659478885\n",
            "dia 2 0.4221698113207547\n",
            "dia 3 0.4232929020664869\n",
            "dia 4 0.43603998203054806\n",
            "dia 5 0.4373315363881401\n",
            "dia 6 0.4397461814914645\n",
            "dia 7 0.4421608265947888\n"
          ]
        }
      ]
    }
  ]
}